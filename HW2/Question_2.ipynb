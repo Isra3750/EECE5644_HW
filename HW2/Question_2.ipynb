{
 "cells": [
  {
   "cell_type": "markdown",
   "id": "1e204141",
   "metadata": {},
   "source": [
    "### Question 2"
   ]
  },
  {
   "cell_type": "code",
   "execution_count": 180,
   "id": "7b4d6a8a",
   "metadata": {},
   "outputs": [],
   "source": [
    "import numpy as np\n",
    "import matplotlib.pyplot as plt\n",
    "from sklearn.preprocessing import PolynomialFeatures\n",
    "from sklearn.metrics import mean_squared_error\n",
    "import hw2q2 # importing given code\n",
    "\n",
    "np.random.seed(86)"
   ]
  },
  {
   "cell_type": "markdown",
   "id": "40860c70",
   "metadata": {},
   "source": [
    "### Equations and definitions"
   ]
  },
  {
   "cell_type": "code",
   "execution_count": 181,
   "id": "a8a2eda5",
   "metadata": {},
   "outputs": [],
   "source": [
    "# helper functions\n",
    "def poly3_features(X):\n",
    "    pf = PolynomialFeatures(degree=3, include_bias=True, interaction_only=False)\n",
    "    Z = pf.fit_transform(X.T) # (N,2) -> (N, 10)\n",
    "    names = pf.get_feature_names_out([\"x1\", \"x2\"])\n",
    "    return Z, names  # names helps you see the exact column order\n",
    "\n",
    "def model_mean(X, w):\n",
    "    Z, _ = poly3_features(X)\n",
    "    return Z @ w"
   ]
  },
  {
   "cell_type": "code",
   "execution_count": 182,
   "id": "8a1e7e80",
   "metadata": {},
   "outputs": [],
   "source": [
    "def fit_ml(Z, y):\n",
    "    \"\"\"Using derived formula for MLE: w_ML = (Z^T Z)^(-1) Z^T y \"\"\"\n",
    "    return np.linalg.pinv(Z).dot(y)  # @ is matrix multiplication in numpy btw\n",
    "\n",
    "def fit_map(Z, y, gamma, sigma2 = 1):\n",
    "    \"\"\" Using derived formula for MAP: w_MAP = (Z^T Z + (sigma2/gamma) I)^(-1) Z^T y \"\"\"\n",
    "    d = Z.shape[1]\n",
    "    lambda_ = sigma2 / gamma # ridge parameter\n",
    "    A = Z.T @ Z + lambda_ * np.eye(d)\n",
    "    return np.linalg.solve(A, Z.T.dot(y)) # use linalg.solve instead of inv"
   ]
  },
  {
   "cell_type": "markdown",
   "id": "29a525ee",
   "metadata": {},
   "source": [
    "### Using the provided script for data"
   ]
  },
  {
   "cell_type": "code",
   "execution_count": 183,
   "id": "dfbd6d1a",
   "metadata": {},
   "outputs": [
    {
     "name": "stdout",
     "output_type": "stream",
     "text": [
      "(100,) (1000,)\n",
      "(100, 1) (1000, 1)\n",
      "(2, 100) (100, 1) (2, 1000) (1000, 1)\n"
     ]
    },
    {
     "data": {
      "text/plain": [
       "<Figure size 640x480 with 0 Axes>"
      ]
     },
     "metadata": {},
     "output_type": "display_data"
    },
    {
     "data": {
      "text/plain": [
       "<Figure size 640x480 with 0 Axes>"
      ]
     },
     "metadata": {},
     "output_type": "display_data"
    }
   ],
   "source": [
    "# get data\n",
    "xTrain, yTrain, xValidate, yValidate = hw2q2.hw2q2()\n",
    "print(yTrain.shape, yValidate.shape)\n",
    "\n",
    "# reshape\n",
    "yTrain = yTrain.reshape(-1,1)\n",
    "yValidate = yValidate.reshape(-1,1)\n",
    "print(yTrain.shape, yValidate.shape)\n",
    "\n",
    "# show data\n",
    "print(xTrain.shape, yTrain.shape, xValidate.shape, yValidate.shape)"
   ]
  },
  {
   "cell_type": "code",
   "execution_count": 184,
   "id": "96bcfbab",
   "metadata": {},
   "outputs": [],
   "source": [
    "# design matrixes\n",
    "zTrain, names = poly3_features(xTrain)\n",
    "zValidate, _ = poly3_features(xValidate)"
   ]
  },
  {
   "cell_type": "code",
   "execution_count": 194,
   "id": "353a86a6",
   "metadata": {},
   "outputs": [],
   "source": [
    "# ML fit\n",
    "w_ml = fit_ml(zTrain, yTrain)\n",
    "\n",
    "# grid for gamma (# from 10^-6 (m=6) to 10^6 (n=6))\n",
    "gammas = np.logspace(-7, 6, 61)\n",
    "\n",
    "# fit MAP for each gamma\n",
    "w_map_list = [fit_map(zTrain, yTrain, g, sigma2=1.0) for g in gammas]"
   ]
  },
  {
   "cell_type": "code",
   "execution_count": 195,
   "id": "64dce3b2",
   "metadata": {},
   "outputs": [
    {
     "name": "stdout",
     "output_type": "stream",
     "text": [
      "MLE validation MSE: 5.044\n",
      "MAP validation MSEs over gamma (γ): [5.51673929 4.91907212 4.67870145 4.59981228 4.59726125 4.635469\n",
      " 4.69513805 4.76087029 4.82092835 4.86941256 4.90576836 4.93230775\n",
      " 4.95183429 4.96635937 4.97691483 4.98388029 4.98727471 4.98712068\n",
      " 4.98406713 4.97966651 4.97571301 4.9732817  4.97250524 4.9730786\n",
      " 4.97484806 4.97811587 4.9835178  4.99142624 5.00128373 5.01163609\n",
      " 5.02094646 5.02833728 5.03368876 5.03732512 5.03969458 5.04119764\n",
      " 5.04213518 5.0427139  5.04306885 5.0432857  5.04341786 5.04349829\n",
      " 5.04354719 5.04357691 5.04359497 5.04360593 5.04361259 5.04361664\n",
      " 5.04361909 5.04362058 5.04362149 5.04362204 5.04362237 5.04362258\n",
      " 5.0436227  5.04362277 5.04362282 5.04362285 5.04362286 5.04362287\n",
      " 5.04362288]\n",
      "Best MAP validation MSE = 4.5973 at gamma (γ) = 7.356e-07\n"
     ]
    }
   ],
   "source": [
    "# ML validation MSE\n",
    "mse_ml = mean_squared_error(yValidate, zValidate.dot(w_ml)) # dot is matrix multiplication\n",
    "\n",
    "# MAP validation MSEs over gamma\n",
    "mse_map = np.array([mean_squared_error(yValidate, zValidate.dot(w_map)) for w_map in w_map_list])\n",
    "\n",
    "# best MAP\n",
    "best_idx = int(np.argmin(mse_map))\n",
    "best_gamma = float(gammas[best_idx])\n",
    "best_mse_map = float(mse_map[best_idx])\n",
    "\n",
    "# print results\n",
    "print(f\"MLE validation MSE: {mse_ml:.3f}\")\n",
    "print(f\"MAP validation MSEs over gamma (γ): {mse_map}\")\n",
    "print(f\"Best MAP validation MSE = {best_mse_map:.4f} at gamma (γ) = {best_gamma:.3e}\")"
   ]
  },
  {
   "cell_type": "code",
   "execution_count": 196,
   "id": "1c2e2a50",
   "metadata": {},
   "outputs": [
    {
     "data": {
      "image/png": "[encoded data removed]",
      "text/plain": [
       "<Figure size 600x400 with 1 Axes>"
      ]
     },
     "metadata": {},
     "output_type": "display_data"
    }
   ],
   "source": [
    "# plot MSE vs gamma -> shows performance as γ is varied\n",
    "plt.figure(figsize=(6,4))\n",
    "plt.plot(np.log10(gammas), mse_map, color=\"r\", label=\"MAP\") # plot MAP MSE vs gamma\n",
    "plt.axhline(mse_ml, linestyle=\"-.\", label=\"MLE\")\n",
    "\n",
    "plt.xlabel(\"log10(gamma(γ))\")\n",
    "plt.ylabel(\"Validation MSE\")\n",
    "plt.title(\"Validation MSE vs gamma(γ)\")\n",
    "plt.legend()\n",
    "plt.tight_layout()\n",
    "plt.show()"
   ]
  }
 ],
 "metadata": {
  "kernelspec": {
   "display_name": ".venv",
   "language": "python",
   "name": "python3"
  },
  "language_info": {
   "codemirror_mode": {
    "name": "ipython",
    "version": 3
   },
   "file_extension": ".py",
   "mimetype": "text/x-python",
   "name": "python",
   "nbconvert_exporter": "python",
   "pygments_lexer": "ipython3",
   "version": "3.12.4"
  }
 },
 "nbformat": 4,
 "nbformat_minor": 5
}
